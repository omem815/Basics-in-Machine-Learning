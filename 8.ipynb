{
  "nbformat": 4,
  "nbformat_minor": 0,
  "metadata": {
    "colab": {
      "provenance": []
    },
    "kernelspec": {
      "name": "python3",
      "display_name": "Python 3"
    },
    "language_info": {
      "name": "python"
    }
  },
  "cells": [
    {
      "cell_type": "code",
      "source": [
        "import torch\n",
        "import torch.nn as nn\n",
        "import numpy as np"
      ],
      "metadata": {
        "id": "_WtTrpjaQd2S",
        "colab": {
          "base_uri": "https://localhost:8080/",
          "height": 355
        },
        "outputId": "c9626e25-94a4-4607-d2a8-47244890a679"
      },
      "execution_count": null,
      "outputs": [
        {
          "output_type": "error",
          "ename": "OSError",
          "evalue": "ignored",
          "traceback": [
            "\u001b[0;31m---------------------------------------------------------------------------\u001b[0m",
            "\u001b[0;31mOSError\u001b[0m                                   Traceback (most recent call last)",
            "\u001b[0;32m<ipython-input-8-ef524dfd3526>\u001b[0m in \u001b[0;36m<cell line: 4>\u001b[0;34m()\u001b[0m\n\u001b[1;32m      2\u001b[0m \u001b[0;32mimport\u001b[0m \u001b[0mtorch\u001b[0m\u001b[0;34m.\u001b[0m\u001b[0mnn\u001b[0m \u001b[0;32mas\u001b[0m \u001b[0mnn\u001b[0m\u001b[0;34m\u001b[0m\u001b[0;34m\u001b[0m\u001b[0m\n\u001b[1;32m      3\u001b[0m \u001b[0;32mimport\u001b[0m \u001b[0mnumpy\u001b[0m \u001b[0;32mas\u001b[0m \u001b[0mnp\u001b[0m\u001b[0;34m\u001b[0m\u001b[0;34m\u001b[0m\u001b[0m\n\u001b[0;32m----> 4\u001b[0;31m \u001b[0;32mimport\u001b[0m \u001b[0mkaggle\u001b[0m\u001b[0;34m\u001b[0m\u001b[0;34m\u001b[0m\u001b[0m\n\u001b[0m",
            "\u001b[0;32m/usr/local/lib/python3.10/dist-packages/kaggle/__init__.py\u001b[0m in \u001b[0;36m<module>\u001b[0;34m\u001b[0m\n\u001b[1;32m     21\u001b[0m \u001b[0;34m\u001b[0m\u001b[0m\n\u001b[1;32m     22\u001b[0m \u001b[0mapi\u001b[0m \u001b[0;34m=\u001b[0m \u001b[0mKaggleApi\u001b[0m\u001b[0;34m(\u001b[0m\u001b[0mApiClient\u001b[0m\u001b[0;34m(\u001b[0m\u001b[0;34m)\u001b[0m\u001b[0;34m)\u001b[0m\u001b[0;34m\u001b[0m\u001b[0;34m\u001b[0m\u001b[0m\n\u001b[0;32m---> 23\u001b[0;31m \u001b[0mapi\u001b[0m\u001b[0;34m.\u001b[0m\u001b[0mauthenticate\u001b[0m\u001b[0;34m(\u001b[0m\u001b[0;34m)\u001b[0m\u001b[0;34m\u001b[0m\u001b[0;34m\u001b[0m\u001b[0m\n\u001b[0m",
            "\u001b[0;32m/usr/local/lib/python3.10/dist-packages/kaggle/api/kaggle_api_extended.py\u001b[0m in \u001b[0;36mauthenticate\u001b[0;34m(self)\u001b[0m\n\u001b[1;32m    401\u001b[0m                 \u001b[0mconfig_data\u001b[0m \u001b[0;34m=\u001b[0m \u001b[0mself\u001b[0m\u001b[0;34m.\u001b[0m\u001b[0mread_config_file\u001b[0m\u001b[0;34m(\u001b[0m\u001b[0mconfig_data\u001b[0m\u001b[0;34m)\u001b[0m\u001b[0;34m\u001b[0m\u001b[0;34m\u001b[0m\u001b[0m\n\u001b[1;32m    402\u001b[0m             \u001b[0;32melse\u001b[0m\u001b[0;34m:\u001b[0m\u001b[0;34m\u001b[0m\u001b[0;34m\u001b[0m\u001b[0m\n\u001b[0;32m--> 403\u001b[0;31m                 raise IOError('Could not find {}. Make sure it\\'s located in'\n\u001b[0m\u001b[1;32m    404\u001b[0m                               ' {}. Or use the environment method.'.format(\n\u001b[1;32m    405\u001b[0m                                   self.config_file, self.config_dir))\n",
            "\u001b[0;31mOSError\u001b[0m: Could not find kaggle.json. Make sure it's located in /root/.kaggle. Or use the environment method."
          ]
        }
      ]
    },
    {
      "cell_type": "code",
      "source": [
        "X = torch.tensor([[1],[2],[3],[4]], dtype=torch.float32)\n",
        "Y = torch.tensor([[2],[4],[6],[8]], dtype=torch.float32)"
      ],
      "metadata": {
        "id": "1kvpPHZpWlH6"
      },
      "execution_count": null,
      "outputs": []
    },
    {
      "cell_type": "code",
      "source": [
        "X_test = torch.tensor([5], dtype=torch.float32)\n",
        "n_samples, n_features = X.shape\n",
        "print(n_samples, n_features)"
      ],
      "metadata": {
        "colab": {
          "base_uri": "https://localhost:8080/"
        },
        "id": "9P0xpFgTtAIg",
        "outputId": "06142fcb-5668-40a6-a4c7-b0fbc797e809"
      },
      "execution_count": null,
      "outputs": [
        {
          "output_type": "stream",
          "name": "stdout",
          "text": [
            "4 1\n"
          ]
        }
      ]
    },
    {
      "cell_type": "code",
      "source": [
        "input_size = n_features\n",
        "output_size = n_features"
      ],
      "metadata": {
        "id": "P_CGwYD8rF5-"
      },
      "execution_count": null,
      "outputs": []
    },
    {
      "cell_type": "code",
      "source": [
        "#model = nn.Linear(input_size, output_size)"
      ],
      "metadata": {
        "id": "ePxlh1cKtcxd"
      },
      "execution_count": null,
      "outputs": []
    },
    {
      "cell_type": "code",
      "source": [
        "class LinearRegression(nn.Module):\n",
        "  def __init__(self, input_dim, output_dim):\n",
        "    super(LinearRegression, self).__init__()\n",
        "\n",
        "    self.linear = nn.Linear(input_dim, output_dim)\n",
        "\n",
        "  def forward(self, x):\n",
        "    return self.linear(x)"
      ],
      "metadata": {
        "id": "m9H_jgmew5Jj"
      },
      "execution_count": null,
      "outputs": []
    },
    {
      "cell_type": "code",
      "source": [
        "model = LinearRegression(input_size, output_size)"
      ],
      "metadata": {
        "id": "Vhf7qPCIyqVz"
      },
      "execution_count": null,
      "outputs": []
    },
    {
      "cell_type": "code",
      "source": [
        "def forward(x):\n",
        "  return w * x"
      ],
      "metadata": {
        "id": "qPd5vRe9EQAl"
      },
      "execution_count": null,
      "outputs": []
    },
    {
      "cell_type": "code",
      "source": [
        "print(f'Prediction before training: f(5) = {model(X_test).item():.3f}')"
      ],
      "metadata": {
        "colab": {
          "base_uri": "https://localhost:8080/"
        },
        "id": "bN6wnOcQGLd0",
        "outputId": "53e76a87-2f2a-407a-b361-d8bea69f76d5"
      },
      "execution_count": null,
      "outputs": [
        {
          "output_type": "stream",
          "name": "stdout",
          "text": [
            "Prediction before training: f(5) = -3.034\n"
          ]
        }
      ]
    },
    {
      "cell_type": "code",
      "source": [
        "learning_rate = 0.01\n",
        "n_iters = 100"
      ],
      "metadata": {
        "id": "qAslLzPNGbrN"
      },
      "execution_count": null,
      "outputs": []
    },
    {
      "cell_type": "code",
      "source": [
        "loss = nn.MSELoss()"
      ],
      "metadata": {
        "id": "uCeoSSLTohxy"
      },
      "execution_count": null,
      "outputs": []
    },
    {
      "cell_type": "code",
      "source": [
        "optimizer = torch.optim.SGD(model.parameters(), lr=learning_rate)"
      ],
      "metadata": {
        "id": "zribnI8jomSB"
      },
      "execution_count": null,
      "outputs": []
    },
    {
      "cell_type": "code",
      "source": [
        "for epoch in range(n_iters):\n",
        "  #prediction\n",
        "  y_pred = model(X)\n",
        "\n",
        "  #loss\n",
        "  l = loss(Y, y_pred)\n",
        "\n",
        "  #gradients\n",
        "  l.backward()\n",
        "\n",
        "  #update weights\n",
        "  optimizer.step()\n",
        "\n",
        "  #zero\n",
        "  optimizer.zero_grad()\n",
        "\n",
        "  if epoch % 2 == 0:\n",
        "    [w, b] = model.parameters()\n",
        "    print(f\"epoch: {epoch+1}, weight: {w[0][0].item():.3f}, loss: {l.item():.8f}\")"
      ],
      "metadata": {
        "colab": {
          "base_uri": "https://localhost:8080/"
        },
        "id": "V6j_9j0hHRg3",
        "outputId": "40eb64f7-3378-4b33-8959-174eb5099c5a"
      },
      "execution_count": null,
      "outputs": [
        {
          "output_type": "stream",
          "name": "stdout",
          "text": [
            "epoch: 1, weight: -0.055, loss: 54.93466568\n",
            "epoch: 3, weight: 0.564, loss: 26.45005417\n",
            "epoch: 5, weight: 0.994, loss: 12.73562050\n",
            "epoch: 7, weight: 1.292, loss: 6.13255405\n",
            "epoch: 9, weight: 1.499, loss: 2.95338011\n",
            "epoch: 11, weight: 1.643, loss: 1.42270076\n",
            "epoch: 13, weight: 1.743, loss: 0.68571985\n",
            "epoch: 15, weight: 1.812, loss: 0.33087787\n",
            "epoch: 17, weight: 1.860, loss: 0.16002437\n",
            "epoch: 19, weight: 1.894, loss: 0.07775543\n",
            "epoch: 21, weight: 1.917, loss: 0.03813717\n",
            "epoch: 23, weight: 1.933, loss: 0.01905379\n",
            "epoch: 25, weight: 1.945, loss: 0.00985755\n",
            "epoch: 27, weight: 1.952, loss: 0.00542163\n",
            "epoch: 29, weight: 1.958, loss: 0.00327785\n",
            "epoch: 31, weight: 1.962, loss: 0.00223774\n",
            "epoch: 33, weight: 1.965, loss: 0.00172909\n",
            "epoch: 35, weight: 1.967, loss: 0.00147643\n",
            "epoch: 37, weight: 1.968, loss: 0.00134711\n",
            "epoch: 39, weight: 1.969, loss: 0.00127725\n",
            "epoch: 41, weight: 1.970, loss: 0.00123612\n",
            "epoch: 43, weight: 1.970, loss: 0.00120891\n",
            "epoch: 45, weight: 1.971, loss: 0.00118850\n",
            "epoch: 47, weight: 1.971, loss: 0.00117144\n",
            "epoch: 49, weight: 1.971, loss: 0.00115608\n",
            "epoch: 51, weight: 1.972, loss: 0.00114163\n",
            "epoch: 53, weight: 1.972, loss: 0.00112770\n",
            "epoch: 55, weight: 1.972, loss: 0.00111409\n",
            "epoch: 57, weight: 1.972, loss: 0.00110074\n",
            "epoch: 59, weight: 1.973, loss: 0.00108758\n",
            "epoch: 61, weight: 1.973, loss: 0.00107460\n",
            "epoch: 63, weight: 1.973, loss: 0.00106178\n",
            "epoch: 65, weight: 1.973, loss: 0.00104911\n",
            "epoch: 67, weight: 1.973, loss: 0.00103661\n",
            "epoch: 69, weight: 1.973, loss: 0.00102425\n",
            "epoch: 71, weight: 1.974, loss: 0.00101204\n",
            "epoch: 73, weight: 1.974, loss: 0.00099997\n",
            "epoch: 75, weight: 1.974, loss: 0.00098805\n",
            "epoch: 77, weight: 1.974, loss: 0.00097626\n",
            "epoch: 79, weight: 1.974, loss: 0.00096463\n",
            "epoch: 81, weight: 1.974, loss: 0.00095313\n",
            "epoch: 83, weight: 1.975, loss: 0.00094177\n",
            "epoch: 85, weight: 1.975, loss: 0.00093054\n",
            "epoch: 87, weight: 1.975, loss: 0.00091945\n",
            "epoch: 89, weight: 1.975, loss: 0.00090848\n",
            "epoch: 91, weight: 1.975, loss: 0.00089766\n",
            "epoch: 93, weight: 1.975, loss: 0.00088695\n",
            "epoch: 95, weight: 1.975, loss: 0.00087638\n",
            "epoch: 97, weight: 1.976, loss: 0.00086592\n",
            "epoch: 99, weight: 1.976, loss: 0.00085561\n"
          ]
        }
      ]
    },
    {
      "cell_type": "code",
      "source": [
        "print(f'Prediction after training: f(5) = {model(X_test).item():.3f}')"
      ],
      "metadata": {
        "colab": {
          "base_uri": "https://localhost:8080/"
        },
        "id": "_AuB75CUIXqR",
        "outputId": "518ef501-8ab4-45d6-d0d2-ec9f05cc5573"
      },
      "execution_count": null,
      "outputs": [
        {
          "output_type": "stream",
          "name": "stdout",
          "text": [
            "Prediction after training: f(5) = 9.950\n"
          ]
        }
      ]
    }
  ]
}